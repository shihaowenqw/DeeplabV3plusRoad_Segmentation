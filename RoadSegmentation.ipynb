{
  "nbformat": 4,
  "nbformat_minor": 0,
  "metadata": {
    "colab": {
      "provenance": [],
      "gpuType": "T4",
      "authorship_tag": "ABX9TyN6dK/aitIyjSApzcFHEQ5e",
      "include_colab_link": true
    },
    "kernelspec": {
      "name": "python3",
      "display_name": "Python 3"
    },
    "language_info": {
      "name": "python"
    },
    "accelerator": "GPU"
  },
  "cells": [
    {
      "cell_type": "markdown",
      "metadata": {
        "id": "view-in-github",
        "colab_type": "text"
      },
      "source": [
        "<a href=\"https://colab.research.google.com/github/shubhampundhir/DeeplabV3plusRoad_Segmentation/blob/main/RoadSegmentation.ipynb\" target=\"_parent\"><img src=\"https://colab.research.google.com/assets/colab-badge.svg\" alt=\"Open In Colab\"/></a>"
      ]
    },
    {
      "cell_type": "code",
      "source": [
        "!pwd"
      ],
      "metadata": {
        "colab": {
          "base_uri": "https://localhost:8080/"
        },
        "id": "ZvNTZ4ZEtAMr",
        "outputId": "eee12656-02fb-4e46-9a9a-c0bd42870b58"
      },
      "execution_count": 2,
      "outputs": [
        {
          "output_type": "stream",
          "name": "stdout",
          "text": [
            "/content\n"
          ]
        }
      ]
    },
    {
      "cell_type": "code",
      "source": [
        "!git clone https://github.com/VainF/DeepLabV3Plus-Pytorch.git"
      ],
      "metadata": {
        "colab": {
          "base_uri": "https://localhost:8080/"
        },
        "id": "KgS4ytivtZvY",
        "outputId": "d8a34e37-4bb4-4de8-e05c-0840368c0041"
      },
      "execution_count": 9,
      "outputs": [
        {
          "output_type": "stream",
          "name": "stdout",
          "text": [
            "Cloning into 'DeepLabV3Plus-Pytorch'...\n",
            "remote: Enumerating objects: 705, done.\u001b[K\n",
            "remote: Counting objects: 100% (52/52), done.\u001b[K\n",
            "remote: Compressing objects: 100% (37/37), done.\u001b[K\n",
            "remote: Total 705 (delta 25), reused 31 (delta 15), pack-reused 653\u001b[K\n",
            "Receiving objects: 100% (705/705), 8.26 MiB | 28.20 MiB/s, done.\n",
            "Resolving deltas: 100% (380/380), done.\n"
          ]
        }
      ]
    },
    {
      "cell_type": "code",
      "source": [
        "!cd C:\\Users\\Shubham Pundhir\\Documents\\GitHub\\DeepLabV3Plus-Pytorch"
      ],
      "metadata": {
        "colab": {
          "base_uri": "https://localhost:8080/"
        },
        "id": "JjDzetgSuB4f",
        "outputId": "961b1091-26d7-4992-f698-be624c74d76f"
      },
      "execution_count": 10,
      "outputs": [
        {
          "output_type": "stream",
          "name": "stdout",
          "text": [
            "/bin/bash: line 1: cd: too many arguments\n"
          ]
        }
      ]
    },
    {
      "cell_type": "code",
      "source": [
        "!cd DeepLabV3Plus-Pytorch/"
      ],
      "metadata": {
        "id": "bDtJS2RbO8HP"
      },
      "execution_count": 13,
      "outputs": []
    },
    {
      "cell_type": "code",
      "source": [
        "!ls"
      ],
      "metadata": {
        "colab": {
          "base_uri": "https://localhost:8080/"
        },
        "id": "_NEPONphvFBQ",
        "outputId": "d9485406-5ed6-4bba-fc9a-3fd8becef5f6"
      },
      "execution_count": 14,
      "outputs": [
        {
          "output_type": "stream",
          "name": "stdout",
          "text": [
            "DeepLabV3Plus-Pytorch  sample_data\n"
          ]
        }
      ]
    },
    {
      "cell_type": "code",
      "source": [
        "cd /content/DeepLabV3Plus-Pytorch/"
      ],
      "metadata": {
        "colab": {
          "base_uri": "https://localhost:8080/"
        },
        "id": "bqDdH37zvGVX",
        "outputId": "e6aa0b2f-cdc1-4f8b-9770-39d9b243ba44"
      },
      "execution_count": 15,
      "outputs": [
        {
          "output_type": "stream",
          "name": "stdout",
          "text": [
            "/content/DeepLabV3Plus-Pytorch\n"
          ]
        }
      ]
    },
    {
      "cell_type": "code",
      "source": [
        "!ls"
      ],
      "metadata": {
        "colab": {
          "base_uri": "https://localhost:8080/"
        },
        "id": "QXJfdkeEv2T0",
        "outputId": "a80a6e55-ff6b-4b0b-eb60-a1e6a741057c"
      },
      "execution_count": 16,
      "outputs": [
        {
          "output_type": "stream",
          "name": "stdout",
          "text": [
            "datasets  main.py  network     README.md\t samples\n",
            "LICENSE   metrics  predict.py  requirements.txt  utils\n"
          ]
        }
      ]
    },
    {
      "cell_type": "code",
      "source": [
        "!python predict.py"
      ],
      "metadata": {
        "colab": {
          "base_uri": "https://localhost:8080/"
        },
        "id": "xUDuzs4pv5_6",
        "outputId": "8513c6f3-f8e2-427e-e5aa-733ebaf6c976"
      },
      "execution_count": 17,
      "outputs": [
        {
          "output_type": "stream",
          "name": "stdout",
          "text": [
            "Traceback (most recent call last):\n",
            "  File \"/content/DeepLabV3Plus-Pytorch/predict.py\", line 4, in <module>\n",
            "    import utils\n",
            "  File \"/content/DeepLabV3Plus-Pytorch/utils/__init__.py\", line 2, in <module>\n",
            "    from .visualizer import Visualizer\n",
            "  File \"/content/DeepLabV3Plus-Pytorch/utils/visualizer.py\", line 1, in <module>\n",
            "    from visdom import Visdom\n",
            "ModuleNotFoundError: No module named 'visdom'\n"
          ]
        }
      ]
    },
    {
      "cell_type": "code",
      "source": [
        "pip install visdom"
      ],
      "metadata": {
        "colab": {
          "base_uri": "https://localhost:8080/"
        },
        "id": "fZ8F85yrwky_",
        "outputId": "a462e088-4ef5-4154-c800-3070d6098e50"
      },
      "execution_count": 18,
      "outputs": [
        {
          "output_type": "stream",
          "name": "stdout",
          "text": [
            "Collecting visdom\n",
            "  Downloading visdom-0.2.4.tar.gz (1.4 MB)\n",
            "\u001b[2K     \u001b[90m━━━━━━━━━━━━━━━━━━━━━━━━━━━━━━━━━━━━━━━━\u001b[0m \u001b[32m1.4/1.4 MB\u001b[0m \u001b[31m8.5 MB/s\u001b[0m eta \u001b[36m0:00:00\u001b[0m\n",
            "\u001b[?25h  Preparing metadata (setup.py) ... \u001b[?25l\u001b[?25hdone\n",
            "Requirement already satisfied: numpy>=1.8 in /usr/local/lib/python3.10/dist-packages (from visdom) (1.23.5)\n",
            "Requirement already satisfied: scipy in /usr/local/lib/python3.10/dist-packages (from visdom) (1.10.1)\n",
            "Requirement already satisfied: requests in /usr/local/lib/python3.10/dist-packages (from visdom) (2.31.0)\n",
            "Requirement already satisfied: tornado in /usr/local/lib/python3.10/dist-packages (from visdom) (6.3.2)\n",
            "Requirement already satisfied: six in /usr/local/lib/python3.10/dist-packages (from visdom) (1.16.0)\n",
            "Collecting jsonpatch (from visdom)\n",
            "  Downloading jsonpatch-1.33-py2.py3-none-any.whl (12 kB)\n",
            "Requirement already satisfied: websocket-client in /usr/local/lib/python3.10/dist-packages (from visdom) (1.6.1)\n",
            "Requirement already satisfied: networkx in /usr/local/lib/python3.10/dist-packages (from visdom) (3.1)\n",
            "Requirement already satisfied: pillow in /usr/local/lib/python3.10/dist-packages (from visdom) (9.4.0)\n",
            "Collecting jsonpointer>=1.9 (from jsonpatch->visdom)\n",
            "  Downloading jsonpointer-2.4-py2.py3-none-any.whl (7.8 kB)\n",
            "Requirement already satisfied: charset-normalizer<4,>=2 in /usr/local/lib/python3.10/dist-packages (from requests->visdom) (3.2.0)\n",
            "Requirement already satisfied: idna<4,>=2.5 in /usr/local/lib/python3.10/dist-packages (from requests->visdom) (3.4)\n",
            "Requirement already satisfied: urllib3<3,>=1.21.1 in /usr/local/lib/python3.10/dist-packages (from requests->visdom) (2.0.4)\n",
            "Requirement already satisfied: certifi>=2017.4.17 in /usr/local/lib/python3.10/dist-packages (from requests->visdom) (2023.7.22)\n",
            "Building wheels for collected packages: visdom\n",
            "  Building wheel for visdom (setup.py) ... \u001b[?25l\u001b[?25hdone\n",
            "  Created wheel for visdom: filename=visdom-0.2.4-py3-none-any.whl size=1408195 sha256=0af7c231875ee9124510d5d104c13a2b4796d639b5e919f584dbb8d24dac0639\n",
            "  Stored in directory: /root/.cache/pip/wheels/42/29/49/5bed207bac4578e4d2c0c5fc0226bfd33a7e2953ea56356855\n",
            "Successfully built visdom\n",
            "Installing collected packages: jsonpointer, jsonpatch, visdom\n",
            "Successfully installed jsonpatch-1.33 jsonpointer-2.4 visdom-0.2.4\n"
          ]
        }
      ]
    },
    {
      "cell_type": "code",
      "source": [
        "!python predict.py --input /content/DeepLabV3Plus-Pytorch/samples/1_image.png --dataset cityscapes --model deeplabv3plus_mobilenet --ckpt checkpoints/best_deeplabv3plus_mobilenet_cityscapes_os16.pth --save_val_results_to test_results"
      ],
      "metadata": {
        "colab": {
          "base_uri": "https://localhost:8080/"
        },
        "id": "G0gkQN6sw4N1",
        "outputId": "78eb1d4b-c7c3-4aea-d3b7-fad851b5adbe"
      },
      "execution_count": null,
      "outputs": [
        {
          "output_type": "stream",
          "name": "stdout",
          "text": [
            "Device: cuda\n",
            "[!] Retrain\n",
            "100% 1/1 [00:01<00:00,  1.43s/it]\n"
          ]
        }
      ]
    },
    {
      "cell_type": "code",
      "source": [
        "!cat /content/DeepLabV3Plus-Pytorch/predict.py"
      ],
      "metadata": {
        "colab": {
          "base_uri": "https://localhost:8080/"
        },
        "id": "dYglRsU4w-3y",
        "outputId": "0f50c537-a762-42c3-9090-ed14e1c1f32e"
      },
      "execution_count": null,
      "outputs": [
        {
          "output_type": "stream",
          "name": "stdout",
          "text": [
            "from torch.utils.data import dataset\n",
            "from tqdm import tqdm\n",
            "import network\n",
            "import utils\n",
            "import os\n",
            "import random\n",
            "import argparse\n",
            "import numpy as np\n",
            "\n",
            "from torch.utils import data\n",
            "from datasets import VOCSegmentation, Cityscapes, cityscapes\n",
            "from torchvision import transforms as T\n",
            "from metrics import StreamSegMetrics\n",
            "\n",
            "import torch\n",
            "import torch.nn as nn\n",
            "\n",
            "from PIL import Image\n",
            "import matplotlib\n",
            "import matplotlib.pyplot as plt\n",
            "from glob import glob\n",
            "\n",
            "def get_argparser():\n",
            "    parser = argparse.ArgumentParser()\n",
            "\n",
            "    # Datset Options\n",
            "    parser.add_argument(\"--input\", type=str, required=True,\n",
            "                        help=\"path to a single image or image directory\")\n",
            "    parser.add_argument(\"--dataset\", type=str, default='voc',\n",
            "                        choices=['voc', 'cityscapes'], help='Name of training set')\n",
            "\n",
            "    # Deeplab Options\n",
            "    available_models = sorted(name for name in network.modeling.__dict__ if name.islower() and \\\n",
            "                              not (name.startswith(\"__\") or name.startswith('_')) and callable(\n",
            "                              network.modeling.__dict__[name])\n",
            "                              )\n",
            "\n",
            "    parser.add_argument(\"--model\", type=str, default='deeplabv3plus_mobilenet',\n",
            "                        choices=available_models, help='model name')\n",
            "    parser.add_argument(\"--separable_conv\", action='store_true', default=False,\n",
            "                        help=\"apply separable conv to decoder and aspp\")\n",
            "    parser.add_argument(\"--output_stride\", type=int, default=16, choices=[8, 16])\n",
            "\n",
            "    # Train Options\n",
            "    parser.add_argument(\"--save_val_results_to\", default=None,\n",
            "                        help=\"save segmentation results to the specified dir\")\n",
            "\n",
            "    parser.add_argument(\"--crop_val\", action='store_true', default=False,\n",
            "                        help='crop validation (default: False)')\n",
            "    parser.add_argument(\"--val_batch_size\", type=int, default=4,\n",
            "                        help='batch size for validation (default: 4)')\n",
            "    parser.add_argument(\"--crop_size\", type=int, default=513)\n",
            "\n",
            "    \n",
            "    parser.add_argument(\"--ckpt\", default=None, type=str,\n",
            "                        help=\"resume from checkpoint\")\n",
            "    parser.add_argument(\"--gpu_id\", type=str, default='0',\n",
            "                        help=\"GPU ID\")\n",
            "    return parser\n",
            "\n",
            "def main():\n",
            "    opts = get_argparser().parse_args()\n",
            "    if opts.dataset.lower() == 'voc':\n",
            "        opts.num_classes = 21\n",
            "        decode_fn = VOCSegmentation.decode_target\n",
            "    elif opts.dataset.lower() == 'cityscapes':\n",
            "        opts.num_classes = 19\n",
            "        decode_fn = Cityscapes.decode_target\n",
            "\n",
            "    os.environ['CUDA_VISIBLE_DEVICES'] = opts.gpu_id\n",
            "    device = torch.device('cuda' if torch.cuda.is_available() else 'cpu')\n",
            "    print(\"Device: %s\" % device)\n",
            "\n",
            "    # Setup dataloader\n",
            "    image_files = []\n",
            "    if os.path.isdir(opts.input):\n",
            "        for ext in ['png', 'jpeg', 'jpg', 'JPEG']:\n",
            "            files = glob(os.path.join(opts.input, '**/*.%s'%(ext)), recursive=True)\n",
            "            if len(files)>0:\n",
            "                image_files.extend(files)\n",
            "    elif os.path.isfile(opts.input):\n",
            "        image_files.append(opts.input)\n",
            "    \n",
            "    # Set up model (all models are 'constructed at network.modeling)\n",
            "    model = network.modeling.__dict__[opts.model](num_classes=opts.num_classes, output_stride=opts.output_stride)\n",
            "    if opts.separable_conv and 'plus' in opts.model:\n",
            "        network.convert_to_separable_conv(model.classifier)\n",
            "    utils.set_bn_momentum(model.backbone, momentum=0.01)\n",
            "    \n",
            "    if opts.ckpt is not None and os.path.isfile(opts.ckpt):\n",
            "        # https://github.com/VainF/DeepLabV3Plus-Pytorch/issues/8#issuecomment-605601402, @PytaichukBohdan\n",
            "        checkpoint = torch.load(opts.ckpt, map_location=torch.device('cpu'))\n",
            "        model.load_state_dict(checkpoint[\"model_state\"])\n",
            "        model = nn.DataParallel(model)\n",
            "        model.to(device)\n",
            "        print(\"Resume model from %s\" % opts.ckpt)\n",
            "        del checkpoint\n",
            "    else:\n",
            "        print(\"[!] Retrain\")\n",
            "        model = nn.DataParallel(model)\n",
            "        model.to(device)\n",
            "\n",
            "    #denorm = utils.Denormalize(mean=[0.485, 0.456, 0.406], std=[0.229, 0.224, 0.225])  # denormalization for ori images\n",
            "\n",
            "    if opts.crop_val:\n",
            "        transform = T.Compose([\n",
            "                T.Resize(opts.crop_size),\n",
            "                T.CenterCrop(opts.crop_size),\n",
            "                T.ToTensor(),\n",
            "                T.Normalize(mean=[0.485, 0.456, 0.406],\n",
            "                                std=[0.229, 0.224, 0.225]),\n",
            "            ])\n",
            "    else:\n",
            "        transform = T.Compose([\n",
            "                T.ToTensor(),\n",
            "                T.Normalize(mean=[0.485, 0.456, 0.406],\n",
            "                                std=[0.229, 0.224, 0.225]),\n",
            "            ])\n",
            "    if opts.save_val_results_to is not None:\n",
            "        os.makedirs(opts.save_val_results_to, exist_ok=True)\n",
            "    with torch.no_grad():\n",
            "        model = model.eval()\n",
            "        for img_path in tqdm(image_files):\n",
            "            ext = os.path.basename(img_path).split('.')[-1]\n",
            "            img_name = os.path.basename(img_path)[:-len(ext)-1]\n",
            "            img = Image.open(img_path).convert('RGB')\n",
            "            img = transform(img).unsqueeze(0) # To tensor of NCHW\n",
            "            img = img.to(device)\n",
            "            \n",
            "            pred = model(img).max(1)[1].cpu().numpy()[0] # HW\n",
            "            colorized_preds = decode_fn(pred).astype('uint8')\n",
            "            colorized_preds = Image.fromarray(colorized_preds)\n",
            "            if opts.save_val_results_to:\n",
            "                colorized_preds.save(os.path.join(opts.save_val_results_to, img_name+'.png'))\n",
            "\n",
            "if __name__ == '__main__':\n",
            "    main()\n"
          ]
        }
      ]
    },
    {
      "cell_type": "code",
      "source": [
        "from torch.utils.data import dataset\n",
        "from tqdm import tqdm\n",
        "import network\n",
        "import utils\n",
        "import os\n",
        "import random\n",
        "import argparse\n",
        "import numpy as np\n",
        "\n",
        "from torch.utils import data\n",
        "from datasets import VOCSegmentation, Cityscapes, cityscapes\n",
        "from torchvision import transforms as T\n",
        "from metrics import StreamSegMetrics\n",
        "\n",
        "import torch\n",
        "import torch.nn as nn\n",
        "\n",
        "from PIL import Image\n",
        "import matplotlib\n",
        "import matplotlib.pyplot as plt\n",
        "from glob import glob\n",
        "\n",
        "def get_argparser():\n",
        "    parser = argparse.ArgumentParser()\n",
        "\n",
        "    # Datset Options\n",
        "    parser.add_argument(\"--input\", type=str, required=True,\n",
        "                        help=\"path to a single image or image directory\")\n",
        "    parser.add_argument(\"--dataset\", type=str, default='voc',\n",
        "                        choices=['voc', 'cityscapes'], help='Name of training set')\n",
        "\n",
        "    # Deeplab Options\n",
        "    available_models = sorted(name for name in network.modeling.__dict__ if name.islower() and \\\n",
        "                              not (name.startswith(\"__\") or name.startswith('_')) and callable(\n",
        "                              network.modeling.__dict__[name])\n",
        "                              )\n",
        "\n",
        "    parser.add_argument(\"--model\", type=str, default='deeplabv3plus_mobilenet',\n",
        "                        choices=available_models, help='model name')\n",
        "    parser.add_argument(\"--separable_conv\", action='store_true', default=False,\n",
        "                        help=\"apply separable conv to decoder and aspp\")\n",
        "    parser.add_argument(\"--output_stride\", type=int, default=16, choices=[8, 16])\n",
        "\n",
        "    # Train Options\n",
        "    parser.add_argument(\"--save_val_results_to\", default=None,\n",
        "                        help=\"save segmentation results to the specified dir\")\n",
        "\n",
        "    parser.add_argument(\"--crop_val\", action='store_true', default=False,\n",
        "                        help='crop validation (default: False)')\n",
        "    parser.add_argument(\"--val_batch_size\", type=int, default=4,\n",
        "                        help='batch size for validation (default: 4)')\n",
        "    parser.add_argument(\"--crop_size\", type=int, default=513)\n",
        "\n",
        "\n",
        "    parser.add_argument(\"--ckpt\", default=None, type=str,\n",
        "                        help=\"resume from checkpoint\")\n",
        "    parser.add_argument(\"--gpu_id\", type=str, default='0',\n",
        "                        help=\"GPU ID\")\n",
        "    return parser\n",
        "\n",
        "def main():\n",
        "    opts = get_argparser().parse_args()\n",
        "    if opts.dataset.lower() == 'voc':\n",
        "        opts.num_classes = 21\n",
        "        decode_fn = VOCSegmentation.decode_target\n",
        "    elif opts.dataset.lower() == 'cityscapes':\n",
        "        opts.num_classes = 19\n",
        "        decode_fn = Cityscapes.decode_target\n",
        "\n",
        "    os.environ['CUDA_VISIBLE_DEVICES'] = opts.gpu_id\n",
        "    device = torch.device('cuda' if torch.cuda.is_available() else 'cpu')\n",
        "    print(\"Device: %s\" % device)\n",
        "\n",
        "    # Setup dataloader\n",
        "    image_files = []\n",
        "    if os.path.isdir(opts.input):\n",
        "        for ext in ['png', 'jpeg', 'jpg', 'JPEG']:\n",
        "            files = glob(os.path.join(opts.input, '**/*.%s'%(ext)), recursive=True)\n",
        "            if len(files)>0:\n",
        "                image_files.extend(files)\n",
        "    elif os.path.isfile(opts.input):\n",
        "        image_files.append(opts.input)\n",
        "\n",
        "    # Set up model (all models are 'constructed at network.modeling)\n",
        "    model = network.modeling.__dict__[opts.model](num_classes=opts.num_classes, output_stride=opts.output_stride)\n",
        "    if opts.separable_conv and 'plus' in opts.model:\n",
        "        network.convert_to_separable_conv(model.classifier)\n",
        "    utils.set_bn_momentum(model.backbone, momentum=0.01)\n",
        "\n",
        "    if opts.ckpt is not None and os.path.isfile(opts.ckpt):\n",
        "        # https://github.com/VainF/DeepLabV3Plus-Pytorch/issues/8#issuecomment-605601402, @PytaichukBohdan\n",
        "        checkpoint = torch.load(opts.ckpt, map_location=torch.device('cpu'))\n",
        "        model.load_state_dict(checkpoint[\"model_state\"])\n",
        "        model = nn.DataParallel(model)\n",
        "        model.to(device)\n",
        "        print(\"Resume model from %s\" % opts.ckpt)\n",
        "        del checkpoint\n",
        "    else:\n",
        "        print(\"[!] Retrain\")\n",
        "        model = nn.DataParallel(model)\n",
        "        model.to(device)\n",
        "\n",
        "    #denorm = utils.Denormalize(mean=[0.485, 0.456, 0.406], std=[0.229, 0.224, 0.225])  # denormalization for ori images\n",
        "\n",
        "    if opts.crop_val:\n",
        "        transform = T.Compose([\n",
        "                T.Resize(opts.crop_size),\n",
        "                T.CenterCrop(opts.crop_size),\n",
        "                T.ToTensor(),\n",
        "                T.Normalize(mean=[0.485, 0.456, 0.406],\n",
        "                                std=[0.229, 0.224, 0.225]),\n",
        "            ])\n",
        "    else:\n",
        "        transform = T.Compose([\n",
        "                T.ToTensor(),\n",
        "                T.Normalize(mean=[0.485, 0.456, 0.406],\n",
        "                                std=[0.229, 0.224, 0.225]),\n",
        "            ])\n",
        "    if opts.save_val_results_to is not None:\n",
        "        os.makedirs(opts.save_val_results_to, exist_ok=True)\n",
        "    with torch.no_grad():\n",
        "        model = model.eval()\n",
        "        for img_path in tqdm(image_files):\n",
        "            ext = os.path.basename(img_path).split('.')[-1]\n",
        "            img_name = os.path.basename(img_path)[:-len(ext)-1]\n",
        "            img = Image.open(img_path).convert('RGB')\n",
        "            img = transform(img).unsqueeze(0) # To tensor of NCHW\n",
        "            img = img.to(device)\n",
        "\n",
        "            pred = model(img).max(1)[1].cpu().numpy()[0] # HW\n",
        "            colorized_preds = decode_fn(pred).astype('uint8')\n",
        "            colorized_preds = Image.fromarray(colorized_preds)\n",
        "            if opts.save_val_results_to:\n",
        "                colorized_preds.save(os.path.join(opts.save_val_results_to, img_name+'.png'))\n",
        "\n",
        "if __name__ == '__main__':\n",
        "    main()"
      ],
      "metadata": {
        "id": "I6dE_VZPyd06"
      },
      "execution_count": null,
      "outputs": []
    },
    {
      "cell_type": "code",
      "source": [
        "import numpy as np\n",
        "import matplotlib.pyplot as plt\n",
        "\n",
        "x = np.random.rand(52,2)\n",
        "\n",
        "labels = np.ones(x.shape[0])\n",
        "labels[0:8] = 1\n",
        "labels[8:31] = 2\n",
        "labels[31:] = 3\n",
        "\n",
        "plt.scatter(x[:,0], x[:,1], c = labels, label = labels)\n",
        "plt.legend()\n",
        "plt.show()"
      ],
      "metadata": {
        "id": "9Rj3TO8aOKtc",
        "outputId": "85bdef44-5dda-4dc8-d2a2-147e432a2f54",
        "colab": {
          "base_uri": "https://localhost:8080/",
          "height": 430
        }
      },
      "execution_count": 19,
      "outputs": [
        {
          "output_type": "display_data",
          "data": {
            "text/plain": [
              "<Figure size 640x480 with 1 Axes>"
            ],
            "image/png": "[encoded data removed]"
          },
          "metadata": {}
        }
      ]
    },
    {
      "cell_type": "code",
      "source": [
        "x = np.random.rand(52,2)\n",
        "\n",
        "labels = np.ones(x.shape[0])\n",
        "labels[0:8] = 1\n",
        "labels[8:31] = 2\n",
        "labels[31:] = 3\n",
        "\n",
        "\n",
        "for i in np.unique(labels):\n",
        "    plt.scatter(x[np.where(labels==i),0], x[np.where(labels==i),1], label=i)\n",
        "plt.legend()\n",
        "plt.show()"
      ],
      "metadata": {
        "id": "ZaJesiKmOUEj",
        "outputId": "2cfcd711-8730-4648-b3b9-0bde3e1d18bb",
        "colab": {
          "base_uri": "https://localhost:8080/",
          "height": 430
        }
      },
      "execution_count": 20,
      "outputs": [
        {
          "output_type": "display_data",
          "data": {
            "text/plain": [
              "<Figure size 640x480 with 1 Axes>"
            ],
            "image/png": "[encoded data removed]"
          },
          "metadata": {}
        }
      ]
    },
    {
      "cell_type": "code",
      "source": [
        "import pandas as pd\n",
        "import numpy as np; np.random.seed(1)\n",
        "import matplotlib.pyplot as plt\n",
        "\n",
        "x = [np.random.normal(5,2, size=20), np.random.normal(10,1, size=20),\n",
        "     np.random.normal(5,1, size=20), np.random.normal(10,1, size=20)]\n",
        "y = [np.random.normal(5,1, size=20), np.random.normal(5,1, size=20),\n",
        "     np.random.normal(10,2, size=20), np.random.normal(10,2, size=20)]\n",
        "c = [np.ones(20)*(i+1) for i in range(4)]\n",
        "\n",
        "df = pd.DataFrame({\"x\":np.array(x).flatten(),\n",
        "                   \"y\":np.array(y).flatten(),\n",
        "                   \"colors\":np.array(c).flatten()})\n",
        "\n",
        "size=81\n",
        "sc = plt.scatter(df['x'], df['y'], s=size, c=df['colors'], edgecolors='none')\n",
        "\n",
        "lp = lambda i: plt.plot([],color=sc.cmap(sc.norm(i)), ms=np.sqrt(size), mec=\"none\",\n",
        "                        label=\"Feature {:g}\".format(i), ls=\"\", marker=\"o\")[0]\n",
        "handles = [lp(i) for i in np.unique(df[\"colors\"])]\n",
        "plt.legend(handles=handles)\n",
        "plt.show()"
      ],
      "metadata": {
        "id": "B06Lpf2qQjN7",
        "outputId": "12712557-8f32-4c60-90c0-7ccc577a3ea7",
        "colab": {
          "base_uri": "https://localhost:8080/",
          "height": 430
        }
      },
      "execution_count": 23,
      "outputs": [
        {
          "output_type": "display_data",
          "data": {
            "text/plain": [
              "<Figure size 640x480 with 1 Axes>"
            ],
            "image/png": "[encoded data removed]"
          },
          "metadata": {}
        }
      ]
    },
    {
      "cell_type": "code",
      "source": [],
      "metadata": {
        "id": "9LuFHgUBRQu4"
      },
      "execution_count": null,
      "outputs": []
    }
  ]
}